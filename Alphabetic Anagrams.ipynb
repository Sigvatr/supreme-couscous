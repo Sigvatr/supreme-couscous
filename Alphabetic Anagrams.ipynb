{
 "cells": [
  {
   "cell_type": "markdown",
   "metadata": {},
   "source": [
    "# Alphabetic Anagrams\n",
    "\n",
    "Original: [Alphabetic Anagrams](https://www.codewars.com/kata/53e57dada0cb0400ba000688/train/python)\n",
    "\n",
    "> Consider a \"word\" as any sequence of capital letters A-Z (not limited to just \"dictionary words\"). For any word with at least two different letters, there are other words composed of the same letters but in a different order (for instance, STATIONARILY/ANTIROYALIST, which happen to both be dictionary words; for our purposes \"AAIILNORSTTY\" is also a \"word\" composed of the same letters as these two).\n",
    "> \n",
    "> We can then assign a number to every word, based on where it falls in an alphabetically sorted list of all words made up of the same group of letters. One way to do this would be to generate the entire list of words and find the desired one, but this would be slow if the word is long.\n",
    "> \n",
    "> Given a word, return its number. Your function should be able to accept any word 25 letters or less in length (possibly with some letters repeated), and take no more than 500 milliseconds to run. To compare, when the solution code runs the 27 test cases in JS, it takes 101ms.\n",
    "> \n",
    ">\n",
    "> Sample words, with their rank:\n",
    "> ABAB = 2\n",
    "> AAAB = 1\n",
    "> BAAA = 4\n",
    "> QUESTION = 24572\n",
    "> BOOKKEEPER = 10743\n",
    "\n",
    "## Generate list of all anagrams\n",
    "\n",
    "Lets start from the brute force approach. Mostly for potential verification purpuses.\n",
    "\n",
    "We going to generate all premutation of word's letters. The `intertools` return in order as are provided, so we sort the words letters before providing them into `permutations`.\n",
    "\n",
    "The problem is with same letters: **A** is the same as **A** after all, so duplicates needs to be clear out (without changing the order)."
   ]
  },
  {
   "cell_type": "code",
   "execution_count": 1,
   "metadata": {},
   "outputs": [],
   "source": [
    "import itertools\n",
    "\n",
    "def generate_all_anagrams(word: str):\n",
    "    duplicates = set()\n",
    "    for permutation in itertools.permutations(sorted(word), len(word)):\n",
    "        if permutation in duplicates:\n",
    "            continue\n",
    "\n",
    "        duplicates.add(permutation)\n",
    "        yield ''.join(permutation)"
   ]
  },
  {
   "cell_type": "markdown",
   "metadata": {},
   "source": [
    "Lets test it:"
   ]
  },
  {
   "cell_type": "code",
   "execution_count": 2,
   "metadata": {},
   "outputs": [
    {
     "name": "stdout",
     "output_type": "stream",
     "text": [
      "1 AAAB\n",
      "2 AABA\n",
      "3 ABAA\n",
      "4 BAAA\n"
     ]
    }
   ],
   "source": [
    "word = 'AAAB'\n",
    "for index, anagram in enumerate(generate_all_anagrams(word)):\n",
    "    print(index + 1, anagram)"
   ]
  },
  {
   "cell_type": "markdown",
   "metadata": {},
   "source": [
    "## Number of anagrams\n",
    "\n",
    "Bonus: the number of all anagrams can be calculated by formula:\n",
    "\n",
    "$$ \\frac{(all\\ characters\\ number)!}{\\displaystyle\\prod_{distinct\\ letters\\ number}^i{i!}} $$\n",
    "\n",
    "Explanation: we calculate the permutation number for number of all characters (which is calculate by $ n! $) and we divide the number by product of permutation number for each distinct letters (also by factorial).\n",
    "\n",
    "Examples:\n",
    "\n",
    "* for string *ABC*, the number of all anagrams will be $ \\frac{3!}{1! 1! 1!} $.\n",
    "* for string *AAABBC*, the number of all anagrams will be $ \\frac{6!}{3! 2! 1!} $ (because there is six characters totall, and A repeats three times, B twice).\n",
    "\n",
    "Lets implement it:"
   ]
  },
  {
   "cell_type": "code",
   "execution_count": 3,
   "metadata": {},
   "outputs": [],
   "source": [
    "from functools import reduce\n",
    "from math import factorial\n",
    "from operator import mul\n",
    "\n",
    "def calculate_number_of_anagrams(word: str) -> int:\n",
    "    if len(word) == 1:\n",
    "        return 1\n",
    "\n",
    "    all_possible_numbers = factorial(len(word))\n",
    "    all_repeating = reduce(mul, (factorial(word.count(letter)) for letter in set(word)))\n",
    "\n",
    "    return all_possible_numbers // all_repeating"
   ]
  },
  {
   "cell_type": "code",
   "execution_count": 4,
   "metadata": {},
   "outputs": [
    {
     "name": "stdout",
     "output_type": "stream",
     "text": [
      "CPU times: user 3 µs, sys: 0 ns, total: 3 µs\n",
      "Wall time: 6.2 µs\n"
     ]
    }
   ],
   "source": [
    "%time\n",
    "\n",
    "assert calculate_number_of_anagrams('AAAB') == 4\n",
    "assert calculate_number_of_anagrams('ABCD') == 24"
   ]
  },
  {
   "cell_type": "markdown",
   "metadata": {},
   "source": [
    "## Solution\n",
    "\n",
    "### Base by replace of position\n",
    "\n",
    "My first idea was to calculate who many letters needs to be replace to return to *base* string. But quickly I understand that replace is not equal to replacement (single letter replace on the end of string, is more than the same on the beginning). I tried to calculate the potential multiplayer for positions.\n",
    "\n",
    "### Recursive approach\n",
    "\n",
    "Assuming that we can calculate the position on the anagram list of the anagrams begins from specified letters. We can calculate the final position by simply shorting the word itself, we can simply add the results up to final.\n",
    "\n",
    "The function which I have mentioned, already is known, that is the `calculate_number_of_anagrams`.\n",
    "\n",
    "#### The removing single letter is difficult\n",
    "\n",
    "There is only one problem with that solution. It is actually quite complicated to remove single repeating letter from the word, and doing it for each such letter without repetition. At least base on words itself. But we don't need a word (as string), we just need the letters counts. Hence the use of [Counter class](https://docs.python.org/3/library/collections.html#collections.Counter). That require little adjustment of `calculate_number_of_anagrams`."
   ]
  },
  {
   "cell_type": "code",
   "execution_count": 5,
   "metadata": {},
   "outputs": [],
   "source": [
    "from collections import Counter\n",
    "from functools import reduce\n",
    "from math import factorial\n",
    "from operator import mul\n",
    "\n",
    "def get_number_of_anagrams(letters: Counter) -> int:\n",
    "    if len(letters) == 1:\n",
    "        return 1\n",
    "\n",
    "    all_posible_numbers = factorial(sum(letters.values()))\n",
    "    all_repeating = reduce(mul, (factorial(count) for _, count in letters.items()))\n",
    "\n",
    "    return all_posible_numbers // all_repeating\n",
    "\n",
    "def solution(word: str) -> int:\n",
    "    if len(word) == 1:\n",
    "        return 1\n",
    "\n",
    "    letters = Counter(word)\n",
    "    position_of_anagram_the_same_initial = 0\n",
    "    for letter in sorted(letters):\n",
    "        if letter == word[0]:\n",
    "            return position_of_anagram_the_same_initial + solution(word[1:])\n",
    "\n",
    "        letters[letter] -= 1\n",
    "        position_of_anagram_the_same_initial += get_number_of_anagrams(letters)\n",
    "        letters[letter] += 1\n",
    "\n",
    "    raise Exception('first letter not found in word')"
   ]
  },
  {
   "cell_type": "markdown",
   "metadata": {},
   "source": [
    "Solution as we can see, just updates the counter values, which very simplifed the difficult part of rearanging the letters.\n",
    "\n",
    "Lets test it for given data:"
   ]
  },
  {
   "cell_type": "code",
   "execution_count": 6,
   "metadata": {},
   "outputs": [
    {
     "name": "stdout",
     "output_type": "stream",
     "text": [
      "CPU times: user 3 µs, sys: 1 µs, total: 4 µs\n",
      "Wall time: 4.77 µs\n"
     ]
    }
   ],
   "source": [
    "%time\n",
    "\n",
    "assert solution('ABAB') == 2\n",
    "assert solution('AAAB') == 1\n",
    "assert solution('BAAA') == 4\n",
    "assert solution('QUESTION') == 24572\n",
    "assert solution('BOOKKEEPER') == 10743"
   ]
  }
 ],
 "metadata": {
  "interpreter": {
   "hash": "31f2aee4e71d21fbe5cf8b01ff0e069b9275f58929596ceb00d14d90e3e16cd6"
  },
  "kernelspec": {
   "display_name": "Python 3.9.2 64-bit",
   "language": "python",
   "name": "python3"
  },
  "language_info": {
   "codemirror_mode": {
    "name": "ipython",
    "version": 3
   },
   "file_extension": ".py",
   "mimetype": "text/x-python",
   "name": "python",
   "nbconvert_exporter": "python",
   "pygments_lexer": "ipython3",
   "version": "3.9.2"
  },
  "orig_nbformat": 4
 },
 "nbformat": 4,
 "nbformat_minor": 2
}

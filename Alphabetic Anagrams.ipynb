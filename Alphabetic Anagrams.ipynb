{
 "cells": [
  {
   "cell_type": "markdown",
   "metadata": {},
   "source": [
    "# Alphabetic Anagrams\n",
    "\n",
    "Original: [Alphabetic Anagrams](https://www.codewars.com/kata/53e57dada0cb0400ba000688/train/python)\n",
    "\n",
    "> Consider a \"word\" as any sequence of capital letters A-Z (not limited to just \"dictionary words\"). For any word with at least two different letters, there are other words composed of the same letters but in a different order (for instance, STATIONARILY/ANTIROYALIST, which happen to both be dictionary words; for our purposes \"AAIILNORSTTY\" is also a \"word\" composed of the same letters as these two).\n",
    "> \n",
    "> We can then assign a number to every word, based on where it falls in an alphabetically sorted list of all words made up of the same group of letters. One way to do this would be to generate the entire list of words and find the desired one, but this would be slow if the word is long.\n",
    "> \n",
    "> Given a word, return its number. Your function should be able to accept any word 25 letters or less in length (possibly with some letters repeated), and take no more than 500 milliseconds to run. To compare, when the solution code runs the 27 test cases in JS, it takes 101ms.\n",
    "> \n",
    ">\n",
    "> Sample words, with their rank:\n",
    "> ABAB = 2\n",
    "> AAAB = 1\n",
    "> BAAA = 4\n",
    "> QUESTION = 24572\n",
    "> BOOKKEEPER = 10743\n",
    "\n",
    "## Generate list of all anagrams\n",
    "\n",
    "Lets start from the brute force approach. Mostly for potential verification purpuses.\n",
    "\n",
    "We going to generate all premutation of word's letters. The `intertools` return in order as are provided, so we sort the words letters before providing them into `permutations`.\n",
    "\n",
    "The problem is with same letters: **A** is the same as **A** after all, so duplicates needs to be clear out (without changing the order)."
   ]
  },
  {
   "cell_type": "code",
   "execution_count": 4,
   "metadata": {},
   "outputs": [],
   "source": [
    "import itertools\n",
    "\n",
    "def generate_all_anagrams(word):\n",
    "    duplicates = set()\n",
    "    for permutation in itertools.permutations(sorted(word), len(word)):\n",
    "        if permutation in duplicates:\n",
    "            continue\n",
    "\n",
    "        duplicates.add(permutation)\n",
    "        yield ''.join(permutation)"
   ]
  },
  {
   "cell_type": "code",
   "execution_count": 5,
   "metadata": {},
   "outputs": [
    {
     "name": "stdout",
     "output_type": "stream",
     "text": [
      "1 AAAB\n",
      "2 AABA\n",
      "3 ABAA\n",
      "4 BAAA\n"
     ]
    }
   ],
   "source": [
    "word = 'AAAB'\n",
    "for index, anagram in enumerate(generate_all_anagrams(word)):\n",
    "    print(index + 1, anagram)"
   ]
  },
  {
   "cell_type": "markdown",
   "metadata": {},
   "source": [
    "## Number of anagrams\n",
    "\n",
    "Bonus: the number of all anagrams can be calculated by formula:\n",
    "\n",
    "$$ \\frac{(all\\ characters)!}{\\displaystyle\\prod_{distinct\\ letters}^i{i!}} $$\n"
   ]
  }
 ],
 "metadata": {
  "interpreter": {
   "hash": "31f2aee4e71d21fbe5cf8b01ff0e069b9275f58929596ceb00d14d90e3e16cd6"
  },
  "kernelspec": {
   "display_name": "Python 3.9.2 64-bit",
   "language": "python",
   "name": "python3"
  },
  "language_info": {
   "codemirror_mode": {
    "name": "ipython",
    "version": 3
   },
   "file_extension": ".py",
   "mimetype": "text/x-python",
   "name": "python",
   "nbconvert_exporter": "python",
   "pygments_lexer": "ipython3",
   "version": "3.9.2"
  },
  "orig_nbformat": 4
 },
 "nbformat": 4,
 "nbformat_minor": 2
}

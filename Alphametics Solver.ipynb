{
 "cells": [
  {
   "cell_type": "markdown",
   "source": [
    "# Alphametics Solver\n",
    "\n",
    "[Alphametics](https://en.wikipedia.org/wiki/Verbal_arithmetic) is a type of cryptarithm in which a set of words is written down in the form of a long addition sum or some other mathematical problem. The objective is to replace the letters of the alphabet with decimal digits to make a valid arithmetic sum.\n",
    "\n",
    "For this kata, your objective is to write a function that accepts an alphametic equation in the form of a single-line string and returns a valid arithmetic equation in the form of a single-line string.\n",
    "Test Examples\n",
    "\n",
    "```\n",
    "INPUT:    \"SEND + MORE = MONEY\"\n",
    "SOLUTION: \"9567 + 1085 = 10652\"\n",
    "\n",
    "INPUT:    \"ELEVEN + NINE + FIVE + FIVE = THIRTY\"\n",
    "SOLUTION: \"797275 + 5057 + 4027 + 4027 = 810386\"\n",
    "```\n",
    "\n",
    "Some puzzles may have multiple valid solutions; your function only needs to return one\n",
    "\n",
    "```\n",
    "BIG + CAT = LION\n",
    "403 + 679 = 1082\n",
    "326 + 954 = 1280\n",
    "304 + 758 = 1062\n",
    "...etc.\n",
    "```\n",
    "\n",
    "Technical Details\n",
    "\n",
    "* All alphabetic letters in the input will be uppercase\n",
    "* Each unique letter may only be assigned to one unique digit\n",
    "* As a corollary to the above, there will be a maximum of 10 unique letters in any given test\n",
    "* No leading zeroes\n",
    "* The equations will only deal with addition with multiple summands on the left side and one term on the right side\n",
    "* The number of summands will range between 2 and 7, inclusive\n",
    "* The length of each summand will range from 2 to 8 characters, inclusive\n",
    "* All test cases will be valid and will have one or more possible solutions\n",
    "* Full Test Suite: 15 fixed tests, 21 random tests for Python and Ruby / 18 random tests for JavaScript / 28 random tests for Go and C# / 136 random tests for Java / 72 random tests for Kotlin\n",
    "* Optimize your code -- a naive, brute-force algorithm may time out before the first test completes\n",
    "* For JavaScript, module and require are disabled, and most prototypes are frozen (except Array and Function)\n",
    "* For Python, module imports are prohibited\n",
    "* Python users: Due to the performance of the Python runner, it is advised to attempt solving this kata in another language besides Python.\n",
    "* Use Python 3.6+ for the Python translation\n",
    "\n",
    "Source: [Alphametics Solver](https://www.codewars.com/kata/5b5fe164b88263ad3d00250b)"
   ],
   "metadata": {}
  },
  {
   "cell_type": "markdown",
   "source": [
    "## Brute force\n",
    "\n",
    "Lets not pay attention of the description, brute force!\n",
    "\n",
    "The algorithm, is calculate the multiplayer for each letter (based on the positions in the word or in equation)."
   ],
   "metadata": {}
  },
  {
   "cell_type": "code",
   "execution_count": 7,
   "source": [
    "import itertools\n",
    "\n",
    "def word_to_multiplayers(word):\n",
    "    multiplayer = 1\n",
    "    for letter in reversed(word):\n",
    "        yield (letter, multiplayer)\n",
    "        multiplayer *= 10\n",
    "\n",
    "def digit_permutations(how_many):\n",
    "    yield from itertools.permutations(range(0, 10), how_many)\n",
    "\n",
    "def add_letters(checking_table, word, a):\n",
    "    for letter, multiplayer in word_to_multiplayers(word):\n",
    "        tmp = checking_table.get(letter, [])\n",
    "        tmp.append(a * multiplayer)\n",
    "        checking_table[letter] = tmp"
   ],
   "outputs": [],
   "metadata": {}
  },
  {
   "cell_type": "code",
   "execution_count": 8,
   "source": [
    "%%time\n",
    "    \n",
    "def alphametics(puzzle):\n",
    "    leftside, rightside = puzzle.split(' = ')\n",
    "\n",
    "    checking_table = {}\n",
    "    for words in leftside.split(' + '):\n",
    "        add_letters(checking_table, words, 1)\n",
    "    \n",
    "    add_letters(checking_table, rightside, -1)\n",
    "        \n",
    "    letter_number = len(checking_table.keys())\n",
    "    for digits in digit_permutations(letter_number):\n",
    "        value_sum = sum(\n",
    "            sum(digit * multiplayer for multiplayer in multiplayers)\n",
    "            for digit, multiplayers in zip(digits, checking_table.values()))\n",
    "\n",
    "        if value_sum != 0:\n",
    "            continue\n",
    "\n",
    "        result = puzzle\n",
    "        for digit, letter in zip(digits, checking_table.keys()):\n",
    "            result = result.replace(letter, str(digit))\n",
    "\n",
    "        return result\n",
    "\n",
    "    raise 'No found'\n",
    "\n",
    "print('Solution:', alphametics('SEND + MORE = MONEY'))"
   ],
   "outputs": [
    {
     "output_type": "stream",
     "name": "stdout",
     "text": [
      "Solution: 3821 + 0468 = 04289\n",
      "CPU times: user 1.07 s, sys: 0 ns, total: 1.07 s\n",
      "Wall time: 1.07 s\n"
     ]
    }
   ],
   "metadata": {}
  },
  {
   "cell_type": "markdown",
   "source": [
    "This approach is working. Slowly, but working. Too slow and not working correctly, because it allow to leading zeros. It need to changed.\n",
    "\n",
    "## Brute force with better bouncer\n",
    "\n",
    "Lets check the last column of letter first. The idea is to reject incorrect permutation early.\n",
    "By the last column I meant (in the example below) the letters *D*, *E* and *Y*.\n",
    "\n",
    "```\n",
    "  SEND\n",
    "+ MORE\n",
    "------\n",
    " MONEY\n",
    "```"
   ],
   "metadata": {}
  },
  {
   "cell_type": "code",
   "execution_count": 9,
   "source": [
    "%%time\n",
    "    \n",
    "def alphametics(puzzle):\n",
    "    leftside, rightside = puzzle.split(' = ')\n",
    "\n",
    "    last_letters = set()\n",
    "    checking_table = {}\n",
    "    for word in leftside.split(' + '):\n",
    "        add_letters(checking_table, word, 1)\n",
    "        last_letters.add(word[-1])\n",
    "    \n",
    "    add_letters(checking_table, rightside, -1)\n",
    "        \n",
    "    letter_number = len(checking_table.keys())\n",
    "    for digits in digit_permutations(letter_number):\n",
    "        y = {k:d for d, k in zip(digits, checking_table.keys())}\n",
    "\n",
    "        if sum(y[letter] for letter in last_letters) != (y[rightside[-1]] % 10):\n",
    "            continue\n",
    "        \n",
    "        value_sum = sum(\n",
    "            sum(digit * multiplayer for multiplayer in multiplayers)\n",
    "            for digit, multiplayers in zip(digits, checking_table.values()))\n",
    "\n",
    "        if value_sum != 0:\n",
    "            continue\n",
    "\n",
    "        result = puzzle\n",
    "        for digit, letter in zip(digits, checking_table.keys()):\n",
    "            result = result.replace(letter, str(digit))\n",
    "\n",
    "        return result\n",
    "\n",
    "    raise 'No found'\n",
    "\n",
    "print('Solution:', alphametics('SEND + MORE = MONEY'))"
   ],
   "outputs": [
    {
     "output_type": "stream",
     "name": "stdout",
     "text": [
      "Solution: 3821 + 0468 = 04289\n",
      "CPU times: user 448 ms, sys: 1.32 ms, total: 449 ms\n",
      "Wall time: 454 ms\n"
     ]
    }
   ],
   "metadata": {}
  },
  {
   "cell_type": "markdown",
   "source": [
    "The solution is almost three times faster, but still it is too slow for the CodeWars server. It also providing leading zeros, but it is not important - test cannot be done (timeout)."
   ],
   "metadata": {}
  }
 ],
 "metadata": {
  "orig_nbformat": 4,
  "language_info": {
   "name": "python",
   "version": "3.8.10",
   "mimetype": "text/x-python",
   "codemirror_mode": {
    "name": "ipython",
    "version": 3
   },
   "pygments_lexer": "ipython3",
   "nbconvert_exporter": "python",
   "file_extension": ".py"
  },
  "kernelspec": {
   "name": "python3",
   "display_name": "Python 3.8.10 64-bit"
  },
  "interpreter": {
   "hash": "31f2aee4e71d21fbe5cf8b01ff0e069b9275f58929596ceb00d14d90e3e16cd6"
  }
 },
 "nbformat": 4,
 "nbformat_minor": 2
}
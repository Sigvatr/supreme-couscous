{
 "cells": [
  {
   "cell_type": "markdown",
   "metadata": {},
   "source": [
    "# Alphametics Solver\n",
    "\n",
    "[Alphametics](https://en.wikipedia.org/wiki/Verbal_arithmetic) is a type of cryptarithm in which a set of words is written down in the form of a long addition sum or some other mathematical problem. The objective is to replace the letters of the alphabet with decimal digits to make a valid arithmetic sum.\n",
    "\n",
    "For this kata, your objective is to write a function that accepts an alphametic equation in the form of a single-line string and returns a valid arithmetic equation in the form of a single-line string.\n",
    "Test Examples\n",
    "\n",
    "```\n",
    "INPUT:    \"SEND + MORE = MONEY\"\n",
    "SOLUTION: \"9567 + 1085 = 10652\"\n",
    "\n",
    "INPUT:    \"ELEVEN + NINE + FIVE + FIVE = THIRTY\"\n",
    "SOLUTION: \"797275 + 5057 + 4027 + 4027 = 810386\"\n",
    "```\n",
    "\n",
    "Some puzzles may have multiple valid solutions; your function only needs to return one\n",
    "\n",
    "```\n",
    "BIG + CAT = LION\n",
    "403 + 679 = 1082\n",
    "326 + 954 = 1280\n",
    "304 + 758 = 1062\n",
    "...etc.\n",
    "```\n",
    "\n",
    "Technical Details\n",
    "\n",
    "* All alphabetic letters in the input will be uppercase\n",
    "* Each unique letter may only be assigned to one unique digit\n",
    "* As a corollary to the above, there will be a maximum of 10 unique letters in any given test\n",
    "* No leading zeroes\n",
    "* The equations will only deal with addition with multiple summands on the left side and one term on the right side\n",
    "* The number of summands will range between 2 and 7, inclusive\n",
    "* The length of each summand will range from 2 to 8 characters, inclusive\n",
    "* All test cases will be valid and will have one or more possible solutions\n",
    "* Full Test Suite: 15 fixed tests, 21 random tests for Python and Ruby / 18 random tests for JavaScript / 28 random tests for Go and C# / 136 random tests for Java / 72 random tests for Kotlin\n",
    "* Optimize your code -- a naive, brute-force algorithm may time out before the first test completes\n",
    "* For JavaScript, module and require are disabled, and most prototypes are frozen (except Array and Function)\n",
    "* For Python, module imports are prohibited\n",
    "* Python users: Due to the performance of the Python runner, it is advised to attempt solving this kata in another language besides Python.\n",
    "* Use Python 3.6+ for the Python translation\n",
    "\n",
    "Source: [Alphametics Solver](https://www.codewars.com/kata/5b5fe164b88263ad3d00250b)"
   ]
  },
  {
   "cell_type": "markdown",
   "metadata": {},
   "source": [
    "## Brute force\n",
    "\n",
    "Lets not pay attention to the description, brute force it is!\n",
    "\n",
    "The algorithm, is calculate the multiplayer for each letter (based on the positions in the word or in equation)."
   ]
  },
  {
   "cell_type": "code",
   "execution_count": 1,
   "metadata": {},
   "outputs": [],
   "source": [
    "import itertools\n",
    "\n",
    "BASE = 10\n",
    "\n",
    "def word_to_multiplayers(word):\n",
    "    multiplayer = 1\n",
    "    for letter in reversed(word):\n",
    "        yield (letter, multiplayer)\n",
    "        multiplayer *= BASE\n",
    "\n",
    "def digit_permutations(how_many):\n",
    "    yield from itertools.permutations(range(0, BASE), how_many)\n",
    "\n",
    "def add_letters(checking_table, word, a):\n",
    "    for letter, multiplayer in word_to_multiplayers(word):\n",
    "        tmp = checking_table.get(letter, [])\n",
    "        tmp.append(a * multiplayer)\n",
    "        checking_table[letter] = tmp"
   ]
  },
  {
   "cell_type": "code",
   "execution_count": 2,
   "metadata": {},
   "outputs": [
    {
     "name": "stdout",
     "output_type": "stream",
     "text": [
      "Solution: 3821 + 0468 = 04289\n",
      "CPU times: user 1.12 s, sys: 3.83 ms, total: 1.12 s\n",
      "Wall time: 1.12 s\n"
     ]
    }
   ],
   "source": [
    "%%time\n",
    "    \n",
    "def alphametics(puzzle):\n",
    "    leftside, rightside = puzzle.split(' = ')\n",
    "\n",
    "    checking_table = {}\n",
    "    for words in leftside.split(' + '):\n",
    "        add_letters(checking_table, words, 1)\n",
    "    \n",
    "    add_letters(checking_table, rightside, -1)\n",
    "        \n",
    "    letter_number = len(checking_table.keys())\n",
    "    for digits in digit_permutations(letter_number):\n",
    "        value_sum = sum(\n",
    "            sum(digit * multiplayer for multiplayer in multiplayers)\n",
    "            for digit, multiplayers in zip(digits, checking_table.values()))\n",
    "\n",
    "        if value_sum != 0:\n",
    "            continue\n",
    "\n",
    "        result = puzzle\n",
    "        for digit, letter in zip(digits, checking_table.keys()):\n",
    "            result = result.replace(letter, str(digit))\n",
    "\n",
    "        return result\n",
    "\n",
    "    raise 'No found'\n",
    "\n",
    "print('Solution:', alphametics('SEND + MORE = MONEY'))"
   ]
  },
  {
   "cell_type": "markdown",
   "metadata": {},
   "source": [
    "This approach is working. Slowly, but working. Too slow and not working correctly, because it allow to leading zeros. It need to changed.\n",
    "\n",
    "## Brute force with better bouncer\n",
    "\n",
    "Lets check the last column of letter first. The idea is to reject incorrect permutation early.\n",
    "By the last column I meant (in the example below) the letters *D*, *E* and *Y*.\n",
    "\n",
    "```\n",
    "  SEND\n",
    "+ MORE\n",
    "------\n",
    " MONEY\n",
    "```"
   ]
  },
  {
   "cell_type": "code",
   "execution_count": 3,
   "metadata": {},
   "outputs": [
    {
     "name": "stdout",
     "output_type": "stream",
     "text": [
      "Solution: 3821 + 0468 = 04289\n",
      "CPU times: user 444 ms, sys: 0 ns, total: 444 ms\n",
      "Wall time: 442 ms\n"
     ]
    }
   ],
   "source": [
    "%%time\n",
    "    \n",
    "def alphametics(puzzle):\n",
    "    leftside, rightside = puzzle.split(' = ')\n",
    "\n",
    "    last_letters = set()\n",
    "    checking_table = {}\n",
    "    for word in leftside.split(' + '):\n",
    "        add_letters(checking_table, word, 1)\n",
    "        last_letters.add(word[-1])\n",
    "    \n",
    "    add_letters(checking_table, rightside, -1)\n",
    "        \n",
    "    letter_number = len(checking_table.keys())\n",
    "    for digits in digit_permutations(letter_number):\n",
    "        y = {k:d for d, k in zip(digits, checking_table.keys())}\n",
    "\n",
    "        if sum(y[letter] for letter in last_letters) != (y[rightside[-1]] % 10):\n",
    "            continue\n",
    "        \n",
    "        value_sum = sum(\n",
    "            sum(digit * multiplayer for multiplayer in multiplayers)\n",
    "            for digit, multiplayers in zip(digits, checking_table.values()))\n",
    "\n",
    "        if value_sum != 0:\n",
    "            continue\n",
    "\n",
    "        result = puzzle\n",
    "        for digit, letter in zip(digits, checking_table.keys()):\n",
    "            result = result.replace(letter, str(digit))\n",
    "\n",
    "        return result\n",
    "\n",
    "    raise 'No found'\n",
    "\n",
    "print('Solution:', alphametics('SEND + MORE = MONEY'))"
   ]
  },
  {
   "cell_type": "markdown",
   "metadata": {},
   "source": [
    "The solution is almost three times faster, but still it is too slow for the CodeWars server. It also providing leading zeros, but it is not important - test cannot be done (timeout). Lets change the approach.\n",
    "\n",
    "## Finding digits based on column\n",
    "\n",
    "During work on that approach, I had to create the helper function for reverting solutions (see below, the `solution_to_digits` functions).\n"
   ]
  },
  {
   "cell_type": "code",
   "execution_count": 4,
   "metadata": {},
   "outputs": [],
   "source": [
    "def solution_to_digits(puzzle, solution, letter_to_index):\n",
    "    solution = {letter: int(digit) for letter, digit in zip(puzzle, solution) if letter not in ' +='}\n",
    "    result = [0] * len(solution)\n",
    "    for letter, digit in solution.items():\n",
    "        result[letter_to_index[letter]] = digit\n",
    "\n",
    "    return tuple(result)"
   ]
  },
  {
   "cell_type": "markdown",
   "metadata": {},
   "source": [
    "The approach required new functions:"
   ]
  },
  {
   "cell_type": "code",
   "execution_count": 5,
   "metadata": {},
   "outputs": [],
   "source": [
    "from collections import defaultdict\n",
    "\n",
    "def check_columns(checking_table, digits):\n",
    "    multiplayer = 1\n",
    "    from_previous = 0\n",
    "\n",
    "    multiplayers = sorted(multiplayer for multiplayer in checking_table.keys() if multiplayer > 0)\n",
    "    for multiplayer in multiplayers:\n",
    "        result = sum(digits[index] for index in checking_table[multiplayer]) + from_previous\n",
    "        from_previous = result // BASE\n",
    "        result %= BASE\n",
    "\n",
    "        if result != digits[checking_table[-1 * multiplayer][0]]:\n",
    "            return False\n",
    "    \n",
    "    multiplayer *= BASE\n",
    "    if (-1 * multiplayer) not in checking_table:\n",
    "        return from_previous == 0\n",
    "\n",
    "    return from_previous == digits[checking_table[-1 * multiplayer][0]]\n",
    "\n",
    "def build_checking_sets(puzzle):\n",
    "    leftside, rightside = puzzle.split(' = ')\n",
    "    all_letters = set(letter for letter in puzzle if letter not in ' +=')\n",
    "    letter_to_index = {letter:i for i, letter in enumerate(all_letters)}\n",
    "    not_zeros = set()\n",
    "\n",
    "    checking_table = defaultdict(list)\n",
    "    for word in leftside.split(' + '):\n",
    "        for letter, multiplater in word_to_multiplayers(word):\n",
    "            checking_table[multiplater].append(letter_to_index[letter])\n",
    "        not_zeros.add(letter_to_index[word[0]])\n",
    "\n",
    "    not_zeros.add(letter_to_index[rightside[0]])\n",
    "    for letter, multiplater in word_to_multiplayers(rightside):\n",
    "        checking_table[-1 * multiplater].append(letter_to_index[letter])\n",
    "    \n",
    "    return letter_to_index, checking_table, not_zeros"
   ]
  },
  {
   "cell_type": "code",
   "execution_count": 6,
   "metadata": {},
   "outputs": [
    {
     "name": "stdout",
     "output_type": "stream",
     "text": [
      "Solution: 9567 + 1085 = 10652\n",
      "CPU times: user 2.63 s, sys: 3.69 ms, total: 2.63 s\n",
      "Wall time: 2.66 s\n"
     ]
    }
   ],
   "source": [
    "%%time\n",
    "\n",
    "def alphametics(puzzle):\n",
    "    letter_to_index, checking_table, not_zeros = build_checking_sets(puzzle)\n",
    "\n",
    "    for digits in digit_permutations(len(letter_to_index)):\n",
    "        if any(digits[index] == 0 for index in not_zeros):\n",
    "            continue\n",
    "\n",
    "        if not check_columns(checking_table, digits):\n",
    "            continue\n",
    "\n",
    "        for letter, index in letter_to_index.items():\n",
    "            puzzle = puzzle.replace(letter, str(digits[index]))\n",
    "\n",
    "        return puzzle\n",
    "\n",
    "    raise 'No found'\n",
    "\n",
    "print('Solution:', alphametics('SEND + MORE = MONEY'))"
   ]
  },
  {
   "cell_type": "markdown",
   "metadata": {},
   "source": [
    "The solution, is working correctly, but still is too slow. Is even slower than my original approach (but they cannot be compare, the first one, allow for leading zeros, this one not)."
   ]
  }
 ],
 "metadata": {
  "interpreter": {
   "hash": "31f2aee4e71d21fbe5cf8b01ff0e069b9275f58929596ceb00d14d90e3e16cd6"
  },
  "kernelspec": {
   "display_name": "Python 3.8.10 64-bit",
   "name": "python3"
  },
  "language_info": {
   "codemirror_mode": {
    "name": "ipython",
    "version": 3
   },
   "file_extension": ".py",
   "mimetype": "text/x-python",
   "name": "python",
   "nbconvert_exporter": "python",
   "pygments_lexer": "ipython3",
   "version": "3.8.10"
  },
  "orig_nbformat": 4
 },
 "nbformat": 4,
 "nbformat_minor": 2
}

{
 "cells": [
  {
   "cell_type": "markdown",
   "source": [
    "# Next bigger number with the same digits\n",
    "\n",
    "Create a function that takes a positive integer and returns the next bigger number that can be formed by rearranging its digits. For example:\n",
    "\n",
    "```\n",
    "12 ==> 21\n",
    "513 ==> 531\n",
    "2017 ==> 2071\n",
    "```\n",
    "\n",
    "```\n",
    "nextBigger(num: 12)   // returns 21\n",
    "nextBigger(num: 513)  // returns 531\n",
    "nextBigger(num: 2017) // returns 2071\n",
    "```\n",
    "\n",
    "If the digits can't be rearranged to form a bigger number, return `-1`:\n",
    "\n",
    "```\n",
    "9 ==> -1\n",
    "111 ==> -1\n",
    "531 ==> -1\n",
    "```\n",
    "\n",
    "```\n",
    "nextBigger(num: 9)   // returns nil\n",
    "nextBigger(num: 111) // returns nil\n",
    "nextBigger(num: 531) // returns nil\n",
    "```\n",
    "\n",
    "Source: [Next bigger number with the same digits](https://www.codewars.com/kata/55983863da40caa2c900004e/train/python)\n"
   ],
   "metadata": {}
  },
  {
   "cell_type": "markdown",
   "source": [
    "## Brute force\n",
    "\n",
    "My first approach was to generate all possible numbers. Then sort them. In the created list find the given number (the `n`) and then collect next one.\n",
    "\n",
    "First problem: there are duplication in the permutations - added `set` structure for removing the result.\n",
    "\n",
    "Second problem: there is a case, where there is not next number (some focus on different part of the task).\n",
    "\n",
    "Finally I created solution which pass the first unit tests:"
   ],
   "metadata": {}
  },
  {
   "cell_type": "code",
   "execution_count": 1,
   "source": [
    "from itertools import permutations\n",
    "\n",
    "def next_bigger1(n):\n",
    "    all_permutations = map(int, map(lambda x: ''.join(x), permutations(str(n))))\n",
    "    bigger_than_n_no_duplicate = set(filter(lambda x: x > n, all_permutations))\n",
    "    \n",
    "    if len(bigger_than_n_no_duplicate) == 0:\n",
    "        return -1\n",
    "\n",
    "    return sorted(bigger_than_n_no_duplicate)[0]\n",
    "\n",
    "assert next_bigger1(12) == 21\n",
    "assert next_bigger1(513) == 531\n",
    "assert next_bigger1(2017) == 2071\n",
    "assert next_bigger1(414) == 441\n",
    "assert next_bigger1(144) == 414\n"
   ],
   "outputs": [],
   "metadata": {}
  },
  {
   "cell_type": "markdown",
   "source": [
    "Unfortunately... this method work much too long for number like `59884848459853`. Even the generators magic didn't help much. I need change approach.\n",
    "\n",
    "## No permutation are needed\n",
    "\n",
    "After looking at the problem, I found, that I should checking the digits one by one. Since the second to the end, up to the front. Checking is about verification if on the right of tested digit there is a digit minimal bigger than it. If yes, then swap the places and sort all digits on the right (to get the lowest possible number)."
   ],
   "metadata": {}
  },
  {
   "cell_type": "code",
   "execution_count": 2,
   "source": [
    "def next_bigger2(n):\n",
    "    digits = list(map(int, str(n)))\n",
    "    digits_number = len(digits)\n",
    "    \n",
    "    for i in range(digits_number - 2, -1, -1):\n",
    "        tested_digit = digits[i]\n",
    "        digits_on_right = digits[i + 1:]\n",
    "        bigger_than_tests = sorted(filter(lambda d: d > tested_digit, digits_on_right))\n",
    "        if len(bigger_than_tests) == 0:\n",
    "            continue\n",
    "\n",
    "        digit_to_replace = bigger_than_tests[0]\n",
    "        \n",
    "        digits_on_right[digits_on_right.index(digit_to_replace)] = tested_digit\n",
    "        new_digits_orders = digits[:i] + [digit_to_replace] + sorted(digits_on_right)\n",
    "\n",
    "        return int(''.join(map(str, new_digits_orders)))\n",
    "\n",
    "    return -1\n",
    "\n",
    "assert next_bigger2(12) == 21\n",
    "assert next_bigger2(513) == 531\n",
    "assert next_bigger2(2017) == 2071\n",
    "assert next_bigger2(414) == 441\n",
    "assert next_bigger2(144) == 414\n",
    "assert next_bigger2(198765432) == 213456789"
   ],
   "outputs": [],
   "metadata": {}
  },
  {
   "cell_type": "markdown",
   "source": [
    "Which fulfilled the task.\n",
    "\n",
    "## Improvements\n",
    "\n",
    "Range seems to replace with enumerator."
   ],
   "metadata": {}
  },
  {
   "cell_type": "code",
   "execution_count": 3,
   "source": [
    "def next_bigger3(n):\n",
    "    digits = list(map(int, str(n)))\n",
    "    digits_number = len(digits)\n",
    "\n",
    "    for i, tested_digit in enumerate(reversed(digits)):\n",
    "        digits_on_right = digits[digits_number - i:]\n",
    "        bigger_than_tests = sorted(filter(lambda d: d > tested_digit, digits_on_right))\n",
    "        if len(bigger_than_tests) == 0:\n",
    "            continue\n",
    "\n",
    "        digit_to_replace = bigger_than_tests[0]\n",
    "        \n",
    "        digits_on_right[digits_on_right.index(digit_to_replace)] = tested_digit\n",
    "        new_digits_orders = digits[:digits_number - i - 1] + [digit_to_replace] + sorted(digits_on_right)\n",
    "\n",
    "        return int(''.join(map(str, new_digits_orders)))\n",
    "\n",
    "    return -1\n",
    "\n",
    "assert next_bigger3(12) == 21\n",
    "assert next_bigger3(513) == 531\n",
    "assert next_bigger3(2017) == 2071\n",
    "assert next_bigger3(414) == 441\n",
    "assert next_bigger3(144) == 414\n",
    "assert next_bigger3(987654321) == -1\n",
    "assert next_bigger3(198765432) == 213456789"
   ],
   "outputs": [],
   "metadata": {}
  }
 ],
 "metadata": {
  "orig_nbformat": 4,
  "language_info": {
   "name": "python",
   "version": "3.8.10",
   "mimetype": "text/x-python",
   "codemirror_mode": {
    "name": "ipython",
    "version": 3
   },
   "pygments_lexer": "ipython3",
   "nbconvert_exporter": "python",
   "file_extension": ".py"
  },
  "kernelspec": {
   "name": "python3",
   "display_name": "Python 3.8.10 64-bit"
  },
  "interpreter": {
   "hash": "31f2aee4e71d21fbe5cf8b01ff0e069b9275f58929596ceb00d14d90e3e16cd6"
  }
 },
 "nbformat": 4,
 "nbformat_minor": 2
}
